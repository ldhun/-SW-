{
 "cells": [
  {
   "cell_type": "code",
   "execution_count": null,
   "metadata": {
    "id": "Eva9c3voAiN-"
   },
   "outputs": [],
   "source": []
  },
  {
   "cell_type": "code",
   "execution_count": 1,
   "metadata": {
    "id": "_LGBqHYyAY0b"
   },
   "outputs": [],
   "source": [
    "# 단계 3: 한글 폰트 설정\n",
    "import matplotlib.pyplot as plt\n",
    "import matplotlib as mpl\n",
    "import matplotlib.font_manager as fm\n",
    "\n",
    "# 마이너스 표시 문제\n",
    "# 한글 폰트 설정\n",
    "plt.rc('font', family='Malgun Gothic')"
   ]
  },
  {
   "cell_type": "markdown",
   "metadata": {},
   "source": [
    "import pandas as pd\n",
    "\n",
    "df = pd.read_excel(\"1.장산도서관자료_OM.xlsx\",index_col=0)\n",
    "\n",
    "df.head(4)"
   ]
  },
  {
   "cell_type": "code",
   "execution_count": null,
   "metadata": {
    "id": "W3zxwagfr9XG",
    "scrolled": true
   },
   "outputs": [],
   "source": []
  },
  {
   "cell_type": "code",
   "execution_count": null,
   "metadata": {
    "id": "MO2XXHpgeMt1"
   },
   "outputs": [],
   "source": []
  },
  {
   "cell_type": "markdown",
   "metadata": {
    "id": "1AXUNffcsBYm"
   },
   "source": [
    "df.info()"
   ]
  },
  {
   "cell_type": "code",
   "execution_count": null,
   "metadata": {
    "id": "c27y7cbJt4T8"
   },
   "outputs": [],
   "source": []
  },
  {
   "cell_type": "markdown",
   "metadata": {
    "id": "Z9sElTv4t-Kk"
   },
   "source": [
    "### 없는 값 지우기(null)"
   ]
  },
  {
   "cell_type": "markdown",
   "metadata": {
    "id": "2cj0gS0IsD92"
   },
   "source": [
    "df.dropna(inplace=True)"
   ]
  },
  {
   "cell_type": "code",
   "execution_count": null,
   "metadata": {
    "id": "fICpwukgt8UL"
   },
   "outputs": [],
   "source": []
  },
  {
   "cell_type": "markdown",
   "metadata": {
    "id": "qcqWq4_EsFW9"
   },
   "source": [
    "df.info()"
   ]
  },
  {
   "cell_type": "code",
   "execution_count": null,
   "metadata": {
    "id": "-KBMs40RuEZ8"
   },
   "outputs": [],
   "source": []
  },
  {
   "cell_type": "markdown",
   "metadata": {
    "id": "EAvyli4eplZ7"
   },
   "source": [
    "### 열 보기"
   ]
  },
  {
   "cell_type": "markdown",
   "metadata": {
    "id": "DcXe0xyOsHOd"
   },
   "source": [
    "df['서명']"
   ]
  },
  {
   "cell_type": "code",
   "execution_count": null,
   "metadata": {
    "id": "PnN0LyXmpiEt"
   },
   "outputs": [],
   "source": []
  },
  {
   "cell_type": "markdown",
   "metadata": {
    "id": "3aalIvQ4pnpr"
   },
   "source": [
    "### loc 함수"
   ]
  },
  {
   "cell_type": "markdown",
   "metadata": {
    "id": "MCo-W6e9sI_G"
   },
   "source": [
    "df.loc[21]"
   ]
  },
  {
   "cell_type": "code",
   "execution_count": null,
   "metadata": {
    "id": "OKD9bf9fmF3T"
   },
   "outputs": [],
   "source": []
  },
  {
   "cell_type": "markdown",
   "metadata": {
    "id": "qAivt-0RsK1t"
   },
   "source": [
    "df.loc[21,'서명']"
   ]
  },
  {
   "cell_type": "code",
   "execution_count": null,
   "metadata": {
    "id": "Zr-3LWZOnB6m"
   },
   "outputs": [],
   "source": []
  },
  {
   "cell_type": "markdown",
   "metadata": {
    "id": "rUYQSqLMnCkU"
   },
   "source": [
    "## 문제 : 도서관에 저장되어 있는 '100'번째 '서명'은 무엇인가?"
   ]
  },
  {
   "cell_type": "code",
   "execution_count": null,
   "metadata": {
    "id": "AkeQsY3knJoj"
   },
   "outputs": [],
   "source": []
  },
  {
   "cell_type": "markdown",
   "metadata": {
    "id": "vbYjf9xQpw6U"
   },
   "source": [
    "### iloc 함수"
   ]
  },
  {
   "cell_type": "markdown",
   "metadata": {
    "id": "Vtb42vzVsOz2"
   },
   "source": [
    "df.iloc[19]  # 위에서 20번째"
   ]
  },
  {
   "cell_type": "code",
   "execution_count": null,
   "metadata": {
    "id": "pk9M2THImaB7"
   },
   "outputs": [],
   "source": []
  },
  {
   "cell_type": "markdown",
   "metadata": {
    "id": "nGBpqu_JsQ2L"
   },
   "source": [
    "df.iloc[19,4] # 위에서 20번째, 왼쪽에서 5번째"
   ]
  },
  {
   "cell_type": "code",
   "execution_count": null,
   "metadata": {
    "id": "IF2cejlnql2m"
   },
   "outputs": [],
   "source": []
  },
  {
   "cell_type": "markdown",
   "metadata": {
    "id": "K3VK6sI6qc4G"
   },
   "source": [
    "## 문제 : 위에서 '10000'번째, 왼쪽에서 '6'번째 데이터는 무엇인가?"
   ]
  },
  {
   "cell_type": "code",
   "execution_count": null,
   "metadata": {
    "id": "xoGwcvJSrKy2"
   },
   "outputs": [],
   "source": []
  },
  {
   "cell_type": "markdown",
   "metadata": {
    "id": "BNmOp3NUqE70"
   },
   "source": [
    "### 범위 슬라이싱"
   ]
  },
  {
   "cell_type": "markdown",
   "metadata": {
    "id": "2Qp9-ACQsS_m"
   },
   "source": [
    "df.loc[21:100,'서명':'발행년']"
   ]
  },
  {
   "cell_type": "code",
   "execution_count": null,
   "metadata": {
    "id": "7PxDoTltuUiS"
   },
   "outputs": [],
   "source": []
  },
  {
   "cell_type": "markdown",
   "metadata": {
    "id": "-zTWn_qHsUa2"
   },
   "source": [
    "df.iloc[20:100,1:5]"
   ]
  },
  {
   "cell_type": "code",
   "execution_count": null,
   "metadata": {
    "id": "EFiamDU7iX9S"
   },
   "outputs": [],
   "source": []
  },
  {
   "cell_type": "markdown",
   "metadata": {
    "id": "ggZJ8fhc5QdO"
   },
   "source": [
    "### 조건식 활용"
   ]
  },
  {
   "cell_type": "markdown",
   "metadata": {
    "id": "8VqsP8KvsVre"
   },
   "source": [
    "*출판사의 이름이 비룡소인 책만 분리하기\n",
    "\n",
    "비룡소 = df[df['발행자']=='비룡소']\n",
    "\n",
    "비룡소"
   ]
  },
  {
   "cell_type": "code",
   "execution_count": 2,
   "metadata": {
    "id": "8nYO5C9H5TqT"
   },
   "outputs": [
    {
     "ename": "SyntaxError",
     "evalue": "invalid syntax (<ipython-input-2-49d3dfdb5e37>, line 1)",
     "output_type": "error",
     "traceback": [
      "\u001b[1;36m  File \u001b[1;32m\"<ipython-input-2-49d3dfdb5e37>\"\u001b[1;36m, line \u001b[1;32m1\u001b[0m\n\u001b[1;33m    *출판사의 이름이 비룡소인 책만 분리하기\u001b[0m\n\u001b[1;37m          ^\u001b[0m\n\u001b[1;31mSyntaxError\u001b[0m\u001b[1;31m:\u001b[0m invalid syntax\n"
     ]
    }
   ],
   "source": [
    "*출판사의 이름이 비룡소인 책만 분리하기\n",
    "\n",
    "비룡소 = df[df['발행자']=='비룡소']\n",
    "\n",
    "비룡소"
   ]
  },
  {
   "cell_type": "markdown",
   "metadata": {
    "id": "mOHAPUuuscOe"
   },
   "source": [
    "* 발행년도가 2017년도인 책만 분리하기 \n",
    "\n",
    "df_2017 = df[df['발행년']==2017]\n",
    "\n",
    "df_2017"
   ]
  },
  {
   "cell_type": "code",
   "execution_count": null,
   "metadata": {
    "id": "hI-F4mPG5XK8"
   },
   "outputs": [],
   "source": []
  },
  {
   "cell_type": "markdown",
   "metadata": {
    "id": "u9dzKA_Hp4GM"
   },
   "source": [
    "### 청구기호 분리하기 및 열추가"
   ]
  },
  {
   "cell_type": "markdown",
   "metadata": {
    "id": "BSFPT_A_sgfw"
   },
   "source": [
    "df['청구기호1'] = df['청구기호'].str.split('-').str[0]\n",
    "\n",
    "df['청구기호2'] = df['청구기호'].str.split('-').str[1]\n",
    "\n",
    "df.head(3)"
   ]
  },
  {
   "cell_type": "code",
   "execution_count": null,
   "metadata": {
    "id": "BYQHJuIshl1R"
   },
   "outputs": [],
   "source": []
  },
  {
   "cell_type": "markdown",
   "metadata": {
    "id": "gZjRghKep739"
   },
   "source": [
    "### 필요없는 column 삭제하기"
   ]
  },
  {
   "cell_type": "markdown",
   "metadata": {
    "id": "wD4otgmasjxT"
   },
   "source": [
    "df.drop(columns=['관리구분','청구기호','등록번호'],inplace=True)\n",
    "\n",
    "df.head(3)"
   ]
  },
  {
   "cell_type": "code",
   "execution_count": null,
   "metadata": {
    "id": "KEshWlyEp8aj"
   },
   "outputs": [],
   "source": []
  },
  {
   "cell_type": "markdown",
   "metadata": {
    "id": "t1KaDRGnuuVU"
   },
   "source": [
    "### 그래프 그리기"
   ]
  },
  {
   "cell_type": "code",
   "execution_count": null,
   "metadata": {
    "id": "nSA8cUEywUuM"
   },
   "outputs": [],
   "source": [
    "import matplotlib.pyplot as plt\n",
    "\n",
    "%matplotlib inline\n",
    "\n",
    "plt.rc('font', family='NanumGothic') "
   ]
  },
  {
   "cell_type": "markdown",
   "metadata": {
    "id": "UgN63xv5snfF"
   },
   "source": [
    "짜장면 = pd.DataFrame({'연도':[1960,1970,1980,1990,2000,2021],\n",
    "                       '가격':[15,140,350,1300,3000,5000]})\n",
    "                       \n",
    "짜장면"
   ]
  },
  {
   "cell_type": "code",
   "execution_count": null,
   "metadata": {
    "id": "258UcDbd1kIQ"
   },
   "outputs": [],
   "source": []
  },
  {
   "cell_type": "markdown",
   "metadata": {
    "id": "gvfKgc9Es-q_"
   },
   "source": [
    "plt.plot(짜장면['연도'],짜장면['가격'])"
   ]
  },
  {
   "cell_type": "code",
   "execution_count": null,
   "metadata": {
    "id": "azpwxvb-13IH"
   },
   "outputs": [],
   "source": []
  },
  {
   "cell_type": "markdown",
   "metadata": {
    "id": "HCQzmueJs_2V"
   },
   "source": [
    "season = pd.DataFrame({'계절':['봄','여름','가을','겨울'],\n",
    "                       '투표수':[4,8,5,7]})\n",
    "                       \n",
    "season"
   ]
  },
  {
   "cell_type": "code",
   "execution_count": null,
   "metadata": {
    "id": "JzLy6ViiV8E_"
   },
   "outputs": [],
   "source": []
  },
  {
   "cell_type": "markdown",
   "metadata": {
    "id": "ujHUng3CtB2f"
   },
   "source": [
    "season.plot()"
   ]
  },
  {
   "cell_type": "code",
   "execution_count": null,
   "metadata": {
    "id": "7Hm7lcX_W5Jd"
   },
   "outputs": [],
   "source": []
  },
  {
   "cell_type": "markdown",
   "metadata": {
    "id": "h2lu1Gu7tDeW"
   },
   "source": [
    "plt.bar(season['계절'],season['투표수'])"
   ]
  },
  {
   "cell_type": "code",
   "execution_count": null,
   "metadata": {
    "id": "fKCtBOcDW_z2"
   },
   "outputs": [],
   "source": []
  },
  {
   "cell_type": "markdown",
   "metadata": {
    "id": "uTr0jQphtM_-"
   },
   "source": [
    "plt.barh(season['계절'],season['투표수'])"
   ]
  },
  {
   "cell_type": "code",
   "execution_count": null,
   "metadata": {
    "id": "8pze2jmdXFez"
   },
   "outputs": [],
   "source": []
  },
  {
   "cell_type": "markdown",
   "metadata": {
    "id": "b0IZr5z4tOT-"
   },
   "source": [
    "plt.pie(season['투표수'],labels=season['계절'], autopct='%.1f%%')"
   ]
  },
  {
   "cell_type": "code",
   "execution_count": null,
   "metadata": {
    "id": "15EVIpkzX-KY"
   },
   "outputs": [],
   "source": []
  },
  {
   "cell_type": "markdown",
   "metadata": {
    "id": "ImsHaqnitQGO"
   },
   "source": [
    "plt.bar(season['계절'],season['투표수'],color='red')"
   ]
  },
  {
   "cell_type": "code",
   "execution_count": null,
   "metadata": {
    "id": "JZRpzR2Y7pjc"
   },
   "outputs": [],
   "source": []
  },
  {
   "cell_type": "markdown",
   "metadata": {
    "id": "xIWu-UFrtR8O"
   },
   "source": [
    "plt.bar(season['계절'],season['투표수'],color='#F5F54B')"
   ]
  },
  {
   "cell_type": "code",
   "execution_count": null,
   "metadata": {
    "id": "7gKemMOU7qWn"
   },
   "outputs": [],
   "source": []
  },
  {
   "cell_type": "markdown",
   "metadata": {
    "id": "3YwaBfyBtTt2"
   },
   "source": [
    "colors = ['red','blue','green','pink']\n",
    "\n",
    "plt.bar(season['계절'],season['투표수'],color=colors)"
   ]
  },
  {
   "cell_type": "code",
   "execution_count": null,
   "metadata": {
    "id": "85A-97J_71ZC"
   },
   "outputs": [],
   "source": []
  },
  {
   "cell_type": "markdown",
   "metadata": {
    "id": "uSvNc70Kti-9"
   },
   "source": [
    "### Seaborn 그래프 그리기"
   ]
  },
  {
   "cell_type": "code",
   "execution_count": null,
   "metadata": {
    "id": "D9V-RwzetuLl"
   },
   "outputs": [],
   "source": [
    "import seaborn as sns\n",
    "\n",
    "sns.set(rc = {'figure.figsize':(15,8)},\n",
    "        font='NanumGothic')"
   ]
  },
  {
   "cell_type": "markdown",
   "metadata": {
    "id": "7D2i-f2HtWKP"
   },
   "source": [
    "value_count = df['자료실명'].value_counts()\n",
    "\n",
    "df1 = pd.DataFrame({'자료실명': value_count.index, '개수': value_count.values})\n",
    "\n",
    "sns.barplot(x= '자료실명',y='개수', data=df1, palette=\"bright\")"
   ]
  },
  {
   "cell_type": "code",
   "execution_count": null,
   "metadata": {
    "id": "shdMQ0Ndyahj"
   },
   "outputs": [],
   "source": []
  },
  {
   "cell_type": "markdown",
   "metadata": {
    "id": "_EHBi_I1tmkl"
   },
   "source": [
    "df['발행자'].value_counts().head(10)"
   ]
  },
  {
   "cell_type": "code",
   "execution_count": null,
   "metadata": {
    "id": "ucdkJ24O44Vk"
   },
   "outputs": [],
   "source": []
  },
  {
   "cell_type": "markdown",
   "metadata": {
    "id": "CQaC7YHgtpCj"
   },
   "source": [
    "value_count = df['발행자'].value_counts().head(10)\n",
    "\n",
    "df1 = pd.DataFrame({'발행자': value_count.index, '개수': value_count.values})\n",
    "\n",
    "sns.barplot(x= '발행자',y='개수', data=df1, palette=\"bright\")"
   ]
  },
  {
   "cell_type": "code",
   "execution_count": null,
   "metadata": {
    "id": "6x_Skjf94rZO"
   },
   "outputs": [],
   "source": []
  },
  {
   "cell_type": "markdown",
   "metadata": {
    "id": "RcLyAy8lty_H"
   },
   "source": [
    "sns.barplot(x= '발행자',y='개수', data=df1, palette=\"deep\")"
   ]
  },
  {
   "cell_type": "code",
   "execution_count": null,
   "metadata": {
    "id": "AVqFtqAQ-leb"
   },
   "outputs": [],
   "source": []
  },
  {
   "cell_type": "markdown",
   "metadata": {
    "id": "g867oKtmt0Vm"
   },
   "source": [
    "sns.barplot(x= '발행자',y='개수', data=df1, palette=\"muted\")"
   ]
  },
  {
   "cell_type": "code",
   "execution_count": null,
   "metadata": {
    "id": "OJxkWdT--luy"
   },
   "outputs": [],
   "source": []
  },
  {
   "cell_type": "markdown",
   "metadata": {
    "id": "qbVpXc0dt2T1"
   },
   "source": [
    "sns.barplot(x= '발행자',y='개수', data=df1, palette=\"pastel\")"
   ]
  },
  {
   "cell_type": "code",
   "execution_count": null,
   "metadata": {
    "id": "Gouu30fm-mD7"
   },
   "outputs": [],
   "source": []
  },
  {
   "cell_type": "markdown",
   "metadata": {
    "id": "RRTbX9zpt3mF"
   },
   "source": [
    "sns.barplot(x= '발행자',y='개수', data=df1, palette=\"bright\")"
   ]
  },
  {
   "cell_type": "code",
   "execution_count": null,
   "metadata": {
    "id": "mV6BEDbG-mWD"
   },
   "outputs": [],
   "source": []
  },
  {
   "cell_type": "markdown",
   "metadata": {
    "id": "sLE_-053t4ft"
   },
   "source": [
    "sns.barplot(x= '발행자',y='개수', data=df1, palette=\"dark\")"
   ]
  },
  {
   "cell_type": "code",
   "execution_count": null,
   "metadata": {
    "id": "WMDXrJnB-mtc"
   },
   "outputs": [],
   "source": []
  },
  {
   "cell_type": "markdown",
   "metadata": {
    "id": "gQc6opOvyvoT"
   },
   "source": [
    "### 위의 코드를 응용해서 책의 발간 년도의 top10를 그리는 그래프를 만들어보자.\n",
    "\n",
    "힌트 : 코드를 그대로 복사하고, 자료실명 대신 '발행년'을 넣으면 된다.\n",
    "\n",
    "주의: 위에서 10개를 그려야 하므로 df['발행년'].value_counts() 뒤에 head(10)을 붙여야 한다."
   ]
  },
  {
   "cell_type": "markdown",
   "metadata": {
    "id": "FeT1pvjOt5-A"
   },
   "source": [
    "\n",
    "\n",
    "---\n",
    "\n",
    "df['발행년'].value_counts().head(10)"
   ]
  },
  {
   "cell_type": "code",
   "execution_count": null,
   "metadata": {
    "id": "YNM9PwZhy_5N"
   },
   "outputs": [],
   "source": []
  },
  {
   "cell_type": "markdown",
   "metadata": {
    "id": "YOLZ_kIdt9Cu"
   },
   "source": [
    "value_count = df['발행년'].value_counts().head(10)\n",
    "\n",
    "df1 = pd.DataFrame({'발행년': value_count.index, '개수': value_count.values})\n",
    "\n",
    "sns.barplot(x= '발행년',y='개수', data=df1, palette=\"bright\")"
   ]
  },
  {
   "cell_type": "code",
   "execution_count": null,
   "metadata": {
    "id": "MlmkDbZxZYDj"
   },
   "outputs": [],
   "source": []
  },
  {
   "cell_type": "markdown",
   "metadata": {
    "id": "6-UUekdy39sb"
   },
   "source": [
    "### 이상한 값 수정하기"
   ]
  },
  {
   "cell_type": "markdown",
   "metadata": {
    "id": "FeT1Dwx9t_LW"
   },
   "source": [
    "\n",
    "\n",
    "---\n",
    "df['발행년'].value_counts().tail(10)\n"
   ]
  },
  {
   "cell_type": "code",
   "execution_count": null,
   "metadata": {
    "id": "dI0eszKzwje5"
   },
   "outputs": [],
   "source": []
  },
  {
   "cell_type": "markdown",
   "metadata": {
    "id": "F0zGL9pquAyt"
   },
   "source": [
    "df.loc[df['발행년'] == '2014.','발행년'] = 2014\n",
    "\n",
    "df.loc[df['발행년'] == 20121,'발행년'] = 2012\n",
    "\n",
    "df.loc[df['발행년'] == '2020)','발행년'] = 2020\n",
    "\n",
    "\n",
    "df['발행년'].value_counts().tail(10)"
   ]
  },
  {
   "cell_type": "code",
   "execution_count": null,
   "metadata": {
    "id": "lUAZX-YN39Ib"
   },
   "outputs": [],
   "source": []
  }
 ],
 "metadata": {
  "colab": {
   "collapsed_sections": [],
   "name": "pandas 실습(교재)",
   "provenance": []
  },
  "kernelspec": {
   "display_name": "Python 3",
   "language": "python",
   "name": "python3"
  },
  "language_info": {
   "codemirror_mode": {
    "name": "ipython",
    "version": 3
   },
   "file_extension": ".py",
   "mimetype": "text/x-python",
   "name": "python",
   "nbconvert_exporter": "python",
   "pygments_lexer": "ipython3",
   "version": "3.8.8"
  },
  "toc": {
   "base_numbering": 1,
   "nav_menu": {},
   "number_sections": true,
   "sideBar": true,
   "skip_h1_title": false,
   "title_cell": "Table of Contents",
   "title_sidebar": "Contents",
   "toc_cell": false,
   "toc_position": {},
   "toc_section_display": true,
   "toc_window_display": false
  }
 },
 "nbformat": 4,
 "nbformat_minor": 1
}
